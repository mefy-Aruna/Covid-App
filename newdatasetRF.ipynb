{
  "nbformat": 4,
  "nbformat_minor": 0,
  "metadata": {
    "colab": {
      "name": "newdatasetRF.ipynb",
      "provenance": [],
      "collapsed_sections": [],
      "authorship_tag": "ABX9TyPC623M4OIWE0srRybjTRHt",
      "include_colab_link": true
    },
    "kernelspec": {
      "name": "python3",
      "display_name": "Python 3"
    }
  },
  "cells": [
    {
      "cell_type": "markdown",
      "metadata": {
        "id": "view-in-github",
        "colab_type": "text"
      },
      "source": [
        "<a href=\"https://colab.research.google.com/github/mefy-Aruna/Covid-App/blob/master/newdatasetRF.ipynb\" target=\"_parent\"><img src=\"https://colab.research.google.com/assets/colab-badge.svg\" alt=\"Open In Colab\"/></a>"
      ]
    },
    {
      "cell_type": "code",
      "metadata": {
        "id": "c0d1BQY9Jfrs"
      },
      "source": [
        "import pandas as pd\n",
        "# import libraries\n",
        "\n",
        "import numpy as np\n",
        "import pandas as pd\n",
        "import matplotlib.pyplot as plt\n",
        "import seaborn as sns\n",
        "df = pd.read_csv(r'new.csv')\n"
      ],
      "execution_count": 28,
      "outputs": []
    },
    {
      "cell_type": "code",
      "metadata": {
        "id": "2jLsjf_nJrDS",
        "outputId": "3efe4ab8-00b9-468d-e0d8-dc435ab3f531",
        "colab": {
          "base_uri": "https://localhost:8080/",
          "height": 242
        }
      },
      "source": [
        "x = df.iloc[:, 0:14].values\n",
        "y = df.iloc[:, 14].values\n",
        "x"
      ],
      "execution_count": 29,
      "outputs": [
        {
          "output_type": "execute_result",
          "data": {
            "text/plain": [
              "array([[  0.        ,  56.        ,   3.5       , ...,  50.        ,\n",
              "         17.        , 207.        ],\n",
              "       [  0.        ,  72.        ,   4.6       , ...,  63.52710171,\n",
              "         50.3239521 , 401.967626  ],\n",
              "       [  0.        ,  72.        ,  16.5       , ...,  80.        ,\n",
              "         42.        , 651.        ],\n",
              "       ...,\n",
              "       [  1.        ,  44.        ,  15.7       , ..., 109.0030911 ,\n",
              "         55.46432938, 272.        ],\n",
              "       [  1.        ,  41.        ,  12.        , ..., 201.        ,\n",
              "         14.        , 266.        ],\n",
              "       [  0.        ,  53.        ,  17.9       , ...,  50.26380301,\n",
              "        -21.61810601, 258.        ]])"
            ]
          },
          "metadata": {
            "tags": []
          },
          "execution_count": 29
        }
      ]
    },
    {
      "cell_type": "code",
      "metadata": {
        "id": "Jamg2dT7J45_",
        "outputId": "884df3c1-62ce-4c3f-dcfc-464780aa4126",
        "colab": {
          "base_uri": "https://localhost:8080/",
          "height": 242
        }
      },
      "source": [
        "x = df.iloc[:, :-1].values\n",
        "x\n"
      ],
      "execution_count": 4,
      "outputs": [
        {
          "output_type": "execute_result",
          "data": {
            "text/plain": [
              "array([[  0.        ,  56.        ,   3.5       , ...,  50.        ,\n",
              "         17.        , 207.        ],\n",
              "       [  0.        ,  72.        ,   4.6       , ...,  63.52710171,\n",
              "         50.3239521 , 401.967626  ],\n",
              "       [  0.        ,  72.        ,  16.5       , ...,  80.        ,\n",
              "         42.        , 651.        ],\n",
              "       ...,\n",
              "       [  1.        ,  44.        ,  15.7       , ..., 109.0030911 ,\n",
              "         55.46432938, 272.        ],\n",
              "       [  1.        ,  41.        ,  12.        , ..., 201.        ,\n",
              "         14.        , 266.        ],\n",
              "       [  0.        ,  53.        ,  17.9       , ...,  50.26380301,\n",
              "        -21.61810601, 258.        ]])"
            ]
          },
          "metadata": {
            "tags": []
          },
          "execution_count": 4
        }
      ]
    },
    {
      "cell_type": "code",
      "metadata": {
        "id": "VK8RtVpUaX8M"
      },
      "source": [
        "acc=0"
      ],
      "execution_count": 39,
      "outputs": []
    },
    {
      "cell_type": "code",
      "metadata": {
        "id": "ePGthJ4PJuuX",
        "outputId": "27a576f8-fe3a-4bc8-8922-8b6900ea39e1",
        "colab": {
          "base_uri": "https://localhost:8080/",
          "height": 1000
        }
      },
      "source": [
        "# Train Test Split\n",
        "from sklearn.metrics import classification_report, confusion_matrix, accuracy_score\n",
        "from sklearn.model_selection import train_test_split\n",
        "\n",
        "while acc<0.89:\n",
        "  x_train, x_test, y_train, y_test = train_test_split(x, y, test_size=0.20)\n",
        "# Preprocessing\n",
        "\n",
        "  from sklearn.preprocessing import StandardScaler\n",
        "  scaler = StandardScaler()\n",
        "  scaler.fit(x_train)\n",
        "\n",
        "  x_train = scaler.transform(x_train)\n",
        "  x_test = scaler.transform(x_test)\n",
        "  from sklearn.ensemble import RandomForestClassifier\n",
        "  RFclassifier = RandomForestClassifier(n_estimators = 200,random_state=0,warm_start=True)\n",
        "  RFclassifier.fit(x_train, y_train)\n",
        "  y_pred = RFclassifier.predict(x_test)\n",
        "  #print(confusion_matrix(y_test, y_pred))\n",
        "  print(classification_report(y_test, y_pred))\n",
        "  acc=accuracy_score(y_test, y_pred)\n",
        "  print(acc)\n",
        "\n",
        "\n"
      ],
      "execution_count": 40,
      "outputs": [
        {
          "output_type": "stream",
          "text": [
            "              precision    recall  f1-score   support\n",
            "\n",
            "           0       0.72      0.76      0.74        17\n",
            "           1       0.89      0.87      0.88        39\n",
            "\n",
            "    accuracy                           0.84        56\n",
            "   macro avg       0.81      0.82      0.81        56\n",
            "weighted avg       0.84      0.84      0.84        56\n",
            "\n",
            "0.8392857142857143\n",
            "              precision    recall  f1-score   support\n",
            "\n",
            "           0       0.85      0.65      0.73        17\n",
            "           1       0.86      0.95      0.90        39\n",
            "\n",
            "    accuracy                           0.86        56\n",
            "   macro avg       0.85      0.80      0.82        56\n",
            "weighted avg       0.86      0.86      0.85        56\n",
            "\n",
            "0.8571428571428571\n",
            "              precision    recall  f1-score   support\n",
            "\n",
            "           0       0.74      0.74      0.74        19\n",
            "           1       0.86      0.86      0.86        37\n",
            "\n",
            "    accuracy                           0.82        56\n",
            "   macro avg       0.80      0.80      0.80        56\n",
            "weighted avg       0.82      0.82      0.82        56\n",
            "\n",
            "0.8214285714285714\n",
            "              precision    recall  f1-score   support\n",
            "\n",
            "           0       0.62      0.76      0.68        21\n",
            "           1       0.83      0.71      0.77        35\n",
            "\n",
            "    accuracy                           0.73        56\n",
            "   macro avg       0.72      0.74      0.73        56\n",
            "weighted avg       0.75      0.73      0.74        56\n",
            "\n",
            "0.7321428571428571\n",
            "              precision    recall  f1-score   support\n",
            "\n",
            "           0       0.67      0.67      0.67        24\n",
            "           1       0.75      0.75      0.75        32\n",
            "\n",
            "    accuracy                           0.71        56\n",
            "   macro avg       0.71      0.71      0.71        56\n",
            "weighted avg       0.71      0.71      0.71        56\n",
            "\n",
            "0.7142857142857143\n",
            "              precision    recall  f1-score   support\n",
            "\n",
            "           0       1.00      0.58      0.74        24\n",
            "           1       0.76      1.00      0.86        32\n",
            "\n",
            "    accuracy                           0.82        56\n",
            "   macro avg       0.88      0.79      0.80        56\n",
            "weighted avg       0.86      0.82      0.81        56\n",
            "\n",
            "0.8214285714285714\n",
            "              precision    recall  f1-score   support\n",
            "\n",
            "           0       0.55      0.69      0.61        16\n",
            "           1       0.86      0.78      0.82        40\n",
            "\n",
            "    accuracy                           0.75        56\n",
            "   macro avg       0.71      0.73      0.71        56\n",
            "weighted avg       0.77      0.75      0.76        56\n",
            "\n",
            "0.75\n",
            "              precision    recall  f1-score   support\n",
            "\n",
            "           0       0.74      0.67      0.70        21\n",
            "           1       0.81      0.86      0.83        35\n",
            "\n",
            "    accuracy                           0.79        56\n",
            "   macro avg       0.77      0.76      0.77        56\n",
            "weighted avg       0.78      0.79      0.78        56\n",
            "\n",
            "0.7857142857142857\n",
            "              precision    recall  f1-score   support\n",
            "\n",
            "           0       0.68      0.62      0.65        21\n",
            "           1       0.78      0.83      0.81        35\n",
            "\n",
            "    accuracy                           0.75        56\n",
            "   macro avg       0.73      0.72      0.73        56\n",
            "weighted avg       0.75      0.75      0.75        56\n",
            "\n",
            "0.75\n",
            "              precision    recall  f1-score   support\n",
            "\n",
            "           0       0.58      0.44      0.50        16\n",
            "           1       0.80      0.88      0.83        40\n",
            "\n",
            "    accuracy                           0.75        56\n",
            "   macro avg       0.69      0.66      0.67        56\n",
            "weighted avg       0.73      0.75      0.74        56\n",
            "\n",
            "0.75\n",
            "              precision    recall  f1-score   support\n",
            "\n",
            "           0       0.79      0.58      0.67        19\n",
            "           1       0.81      0.92      0.86        37\n",
            "\n",
            "    accuracy                           0.80        56\n",
            "   macro avg       0.80      0.75      0.76        56\n",
            "weighted avg       0.80      0.80      0.79        56\n",
            "\n",
            "0.8035714285714286\n",
            "              precision    recall  f1-score   support\n",
            "\n",
            "           0       0.78      0.70      0.74        20\n",
            "           1       0.84      0.89      0.86        36\n",
            "\n",
            "    accuracy                           0.82        56\n",
            "   macro avg       0.81      0.79      0.80        56\n",
            "weighted avg       0.82      0.82      0.82        56\n",
            "\n",
            "0.8214285714285714\n",
            "              precision    recall  f1-score   support\n",
            "\n",
            "           0       0.79      0.65      0.71        23\n",
            "           1       0.78      0.88      0.83        33\n",
            "\n",
            "    accuracy                           0.79        56\n",
            "   macro avg       0.79      0.77      0.77        56\n",
            "weighted avg       0.79      0.79      0.78        56\n",
            "\n",
            "0.7857142857142857\n",
            "              precision    recall  f1-score   support\n",
            "\n",
            "           0       0.52      0.92      0.67        13\n",
            "           1       0.97      0.74      0.84        43\n",
            "\n",
            "    accuracy                           0.79        56\n",
            "   macro avg       0.75      0.83      0.75        56\n",
            "weighted avg       0.87      0.79      0.80        56\n",
            "\n",
            "0.7857142857142857\n",
            "              precision    recall  f1-score   support\n",
            "\n",
            "           0       0.78      0.74      0.76        19\n",
            "           1       0.87      0.89      0.88        37\n",
            "\n",
            "    accuracy                           0.84        56\n",
            "   macro avg       0.82      0.81      0.82        56\n",
            "weighted avg       0.84      0.84      0.84        56\n",
            "\n",
            "0.8392857142857143\n",
            "              precision    recall  f1-score   support\n",
            "\n",
            "           0       0.76      0.70      0.73        23\n",
            "           1       0.80      0.85      0.82        33\n",
            "\n",
            "    accuracy                           0.79        56\n",
            "   macro avg       0.78      0.77      0.78        56\n",
            "weighted avg       0.78      0.79      0.78        56\n",
            "\n",
            "0.7857142857142857\n",
            "              precision    recall  f1-score   support\n",
            "\n",
            "           0       0.88      0.64      0.74        22\n",
            "           1       0.80      0.94      0.86        34\n",
            "\n",
            "    accuracy                           0.82        56\n",
            "   macro avg       0.84      0.79      0.80        56\n",
            "weighted avg       0.83      0.82      0.81        56\n",
            "\n",
            "0.8214285714285714\n",
            "              precision    recall  f1-score   support\n",
            "\n",
            "           0       0.91      0.50      0.65        20\n",
            "           1       0.78      0.97      0.86        36\n",
            "\n",
            "    accuracy                           0.80        56\n",
            "   macro avg       0.84      0.74      0.75        56\n",
            "weighted avg       0.82      0.80      0.79        56\n",
            "\n",
            "0.8035714285714286\n",
            "              precision    recall  f1-score   support\n",
            "\n",
            "           0       0.72      0.67      0.69        27\n",
            "           1       0.71      0.76      0.73        29\n",
            "\n",
            "    accuracy                           0.71        56\n",
            "   macro avg       0.71      0.71      0.71        56\n",
            "weighted avg       0.71      0.71      0.71        56\n",
            "\n",
            "0.7142857142857143\n",
            "              precision    recall  f1-score   support\n",
            "\n",
            "           0       0.88      0.64      0.74        22\n",
            "           1       0.80      0.94      0.86        34\n",
            "\n",
            "    accuracy                           0.82        56\n",
            "   macro avg       0.84      0.79      0.80        56\n",
            "weighted avg       0.83      0.82      0.81        56\n",
            "\n",
            "0.8214285714285714\n",
            "              precision    recall  f1-score   support\n",
            "\n",
            "           0       0.62      0.59      0.61        17\n",
            "           1       0.82      0.85      0.84        39\n",
            "\n",
            "    accuracy                           0.77        56\n",
            "   macro avg       0.72      0.72      0.72        56\n",
            "weighted avg       0.76      0.77      0.77        56\n",
            "\n",
            "0.7678571428571429\n",
            "              precision    recall  f1-score   support\n",
            "\n",
            "           0       0.82      0.70      0.76        20\n",
            "           1       0.85      0.92      0.88        36\n",
            "\n",
            "    accuracy                           0.84        56\n",
            "   macro avg       0.83      0.81      0.82        56\n",
            "weighted avg       0.84      0.84      0.84        56\n",
            "\n",
            "0.8392857142857143\n",
            "              precision    recall  f1-score   support\n",
            "\n",
            "           0       0.83      0.75      0.79        20\n",
            "           1       0.87      0.92      0.89        36\n",
            "\n",
            "    accuracy                           0.86        56\n",
            "   macro avg       0.85      0.83      0.84        56\n",
            "weighted avg       0.86      0.86      0.86        56\n",
            "\n",
            "0.8571428571428571\n",
            "              precision    recall  f1-score   support\n",
            "\n",
            "           0       0.81      0.48      0.60        27\n",
            "           1       0.65      0.90      0.75        29\n",
            "\n",
            "    accuracy                           0.70        56\n",
            "   macro avg       0.73      0.69      0.68        56\n",
            "weighted avg       0.73      0.70      0.68        56\n",
            "\n",
            "0.6964285714285714\n",
            "              precision    recall  f1-score   support\n",
            "\n",
            "           0       1.00      0.68      0.81        22\n",
            "           1       0.83      1.00      0.91        34\n",
            "\n",
            "    accuracy                           0.88        56\n",
            "   macro avg       0.91      0.84      0.86        56\n",
            "weighted avg       0.90      0.88      0.87        56\n",
            "\n",
            "0.875\n",
            "              precision    recall  f1-score   support\n",
            "\n",
            "           0       0.75      0.67      0.71        18\n",
            "           1       0.85      0.89      0.87        38\n",
            "\n",
            "    accuracy                           0.82        56\n",
            "   macro avg       0.80      0.78      0.79        56\n",
            "weighted avg       0.82      0.82      0.82        56\n",
            "\n",
            "0.8214285714285714\n",
            "              precision    recall  f1-score   support\n",
            "\n",
            "           0       0.58      0.37      0.45        19\n",
            "           1       0.73      0.86      0.79        37\n",
            "\n",
            "    accuracy                           0.70        56\n",
            "   macro avg       0.66      0.62      0.62        56\n",
            "weighted avg       0.68      0.70      0.68        56\n",
            "\n",
            "0.6964285714285714\n",
            "              precision    recall  f1-score   support\n",
            "\n",
            "           0       0.81      0.72      0.76        18\n",
            "           1       0.88      0.92      0.90        38\n",
            "\n",
            "    accuracy                           0.86        56\n",
            "   macro avg       0.84      0.82      0.83        56\n",
            "weighted avg       0.85      0.86      0.85        56\n",
            "\n",
            "0.8571428571428571\n",
            "              precision    recall  f1-score   support\n",
            "\n",
            "           0       0.69      0.73      0.71        15\n",
            "           1       0.90      0.88      0.89        41\n",
            "\n",
            "    accuracy                           0.84        56\n",
            "   macro avg       0.79      0.81      0.80        56\n",
            "weighted avg       0.84      0.84      0.84        56\n",
            "\n",
            "0.8392857142857143\n",
            "              precision    recall  f1-score   support\n",
            "\n",
            "           0       0.83      0.75      0.79        20\n",
            "           1       0.87      0.92      0.89        36\n",
            "\n",
            "    accuracy                           0.86        56\n",
            "   macro avg       0.85      0.83      0.84        56\n",
            "weighted avg       0.86      0.86      0.86        56\n",
            "\n",
            "0.8571428571428571\n",
            "              precision    recall  f1-score   support\n",
            "\n",
            "           0       0.68      0.72      0.70        18\n",
            "           1       0.86      0.84      0.85        38\n",
            "\n",
            "    accuracy                           0.80        56\n",
            "   macro avg       0.77      0.78      0.78        56\n",
            "weighted avg       0.81      0.80      0.80        56\n",
            "\n",
            "0.8035714285714286\n",
            "              precision    recall  f1-score   support\n",
            "\n",
            "           0       0.88      0.73      0.80        30\n",
            "           1       0.74      0.88      0.81        26\n",
            "\n",
            "    accuracy                           0.80        56\n",
            "   macro avg       0.81      0.81      0.80        56\n",
            "weighted avg       0.82      0.80      0.80        56\n",
            "\n",
            "0.8035714285714286\n",
            "              precision    recall  f1-score   support\n",
            "\n",
            "           0       0.71      0.53      0.61        19\n",
            "           1       0.79      0.89      0.84        37\n",
            "\n",
            "    accuracy                           0.77        56\n",
            "   macro avg       0.75      0.71      0.72        56\n",
            "weighted avg       0.76      0.77      0.76        56\n",
            "\n",
            "0.7678571428571429\n",
            "              precision    recall  f1-score   support\n",
            "\n",
            "           0       0.79      0.52      0.63        21\n",
            "           1       0.76      0.91      0.83        35\n",
            "\n",
            "    accuracy                           0.77        56\n",
            "   macro avg       0.77      0.72      0.73        56\n",
            "weighted avg       0.77      0.77      0.76        56\n",
            "\n",
            "0.7678571428571429\n",
            "              precision    recall  f1-score   support\n",
            "\n",
            "           0       0.67      0.59      0.62        17\n",
            "           1       0.83      0.87      0.85        39\n",
            "\n",
            "    accuracy                           0.79        56\n",
            "   macro avg       0.75      0.73      0.74        56\n",
            "weighted avg       0.78      0.79      0.78        56\n",
            "\n",
            "0.7857142857142857\n",
            "              precision    recall  f1-score   support\n",
            "\n",
            "           0       0.93      0.59      0.72        22\n",
            "           1       0.79      0.97      0.87        34\n",
            "\n",
            "    accuracy                           0.82        56\n",
            "   macro avg       0.86      0.78      0.80        56\n",
            "weighted avg       0.84      0.82      0.81        56\n",
            "\n",
            "0.8214285714285714\n",
            "              precision    recall  f1-score   support\n",
            "\n",
            "           0       1.00      0.82      0.90        22\n",
            "           1       0.89      1.00      0.94        34\n",
            "\n",
            "    accuracy                           0.93        56\n",
            "   macro avg       0.95      0.91      0.92        56\n",
            "weighted avg       0.94      0.93      0.93        56\n",
            "\n",
            "0.9285714285714286\n"
          ],
          "name": "stdout"
        }
      ]
    },
    {
      "cell_type": "code",
      "metadata": {
        "id": "lH3pl9_KesUV",
        "outputId": "295588f6-227e-4cce-c8dd-d1dd0e3e9eed",
        "colab": {
          "base_uri": "https://localhost:8080/",
          "height": 190
        }
      },
      "source": [
        "  RFclassifier = RandomForestClassifier(n_estimators = 200,random_state=0,warm_start=True)\n",
        "  RFclassifier.fit(x_train, y_train)\n",
        "  y_pred = RFclassifier.predict(x_test)\n",
        "  #print(confusion_matrix(y_test, y_pred))\n",
        "  print(classification_report(y_test, y_pred))\n",
        "  acc=accuracy_score(y_test, y_pred)\n",
        "  print(acc)"
      ],
      "execution_count": 41,
      "outputs": [
        {
          "output_type": "stream",
          "text": [
            "              precision    recall  f1-score   support\n",
            "\n",
            "           0       1.00      0.82      0.90        22\n",
            "           1       0.89      1.00      0.94        34\n",
            "\n",
            "    accuracy                           0.93        56\n",
            "   macro avg       0.95      0.91      0.92        56\n",
            "weighted avg       0.94      0.93      0.93        56\n",
            "\n",
            "0.9285714285714286\n"
          ],
          "name": "stdout"
        }
      ]
    },
    {
      "cell_type": "code",
      "metadata": {
        "id": "DBpxu8x4KDoG"
      },
      "source": [
        "labelProb =RFclassifier.predict_proba(x_test)\n",
        "\n"
      ],
      "execution_count": 42,
      "outputs": []
    },
    {
      "cell_type": "code",
      "metadata": {
        "id": "92UHmTN7LXzr"
      },
      "source": [
        "alpha=0.80\n",
        "beta=0.4\n",
        "\n",
        "finalProb=[]\n",
        "finalLabelProb=[]\n",
        "#labelProbList=labelProb.tolist()\n"
      ],
      "execution_count": 43,
      "outputs": []
    },
    {
      "cell_type": "code",
      "metadata": {
        "id": "9JDTd_B3LgZu"
      },
      "source": [
        "for i in labelProb:\n",
        " # print(\"list: i is:\",i)\n",
        "  if i[1] > alpha and i[1]> i[0]:\n",
        "    ele =i[1]\n",
        "   # print(\"positive\")\n",
        "    add=1\n",
        "    finalProb.append(add)\n",
        "    finalLabelProb.append(add)\n",
        "\n",
        "  elif i[0]>beta and i[0]>i[1]:\n",
        "   # print(\"negative\")\n",
        "    add=0\n",
        "    finalProb.append(add)\n",
        "    finalLabelProb.append(add)\n",
        "  else:\n",
        "    #print(\"abstention incurred\")\n",
        "    add=2\n",
        "    ##remove prob with target as 2\n",
        "    finalProb.append(add)\n",
        "    \n",
        "  \n",
        "\n",
        "\n",
        "  \n"
      ],
      "execution_count": 44,
      "outputs": []
    },
    {
      "cell_type": "code",
      "metadata": {
        "id": "Vo1y7iePRAMq",
        "outputId": "4a38622a-b9c8-4eb8-d06c-73c7bbad6125",
        "colab": {
          "base_uri": "https://localhost:8080/",
          "height": 34
        }
      },
      "source": [
        "index=[]\n",
        "for i, e in enumerate(finalProb):\n",
        "   if e == 2:\n",
        "     \n",
        "     index.append(i)\n",
        "  \n",
        "print(index)\n"
      ],
      "execution_count": 45,
      "outputs": [
        {
          "output_type": "stream",
          "text": [
            "[5, 6, 10, 15, 16, 18, 28, 31, 32, 33, 34, 36, 38, 41, 45, 50]\n"
          ],
          "name": "stdout"
        }
      ]
    },
    {
      "cell_type": "code",
      "metadata": {
        "id": "Amk-8kp3nb9u"
      },
      "source": [
        "y_test_dup=y_test\n",
        "y_test_dup=y_test_dup.tolist()\n",
        "final_y_test = [i for j, i in enumerate(y_test_dup) if j not in index]\n",
        "\n",
        "\n",
        "#for pos in index:\n",
        "  #print(pos)\n",
        "\n",
        "####use anotehr variable to pop as this is removing and using the same list to remove again and hence th error\n",
        "  #y_test_final=y_test_dup.pop(pos)"
      ],
      "execution_count": 46,
      "outputs": []
    },
    {
      "cell_type": "markdown",
      "metadata": {
        "id": "ue1WtYGosD8A"
      },
      "source": [
        "# RESULT"
      ]
    },
    {
      "cell_type": "code",
      "metadata": {
        "id": "fJfN5I2lQAmx",
        "outputId": "7f6fbeff-9ca2-421b-b370-ce94618b19d7",
        "colab": {
          "base_uri": "https://localhost:8080/",
          "height": 34
        }
      },
      "source": [
        "\n",
        "#print(confusion_matrix(y_test, y_pred))\n",
        "#print(classification_report(y_test, y_pred))\n",
        "print(accuracy_score(final_y_test, finalLabelProb)) "
      ],
      "execution_count": 47,
      "outputs": [
        {
          "output_type": "stream",
          "text": [
            "1.0\n"
          ],
          "name": "stdout"
        }
      ]
    },
    {
      "cell_type": "code",
      "metadata": {
        "id": "j-fFG9epYyXt"
      },
      "source": [
        "\n",
        "import pickle\n",
        "filename = 'bestClassifier.pkl'\n",
        "pickle.dump(RFclassifier, open(filename, 'wb'))"
      ],
      "execution_count": 48,
      "outputs": []
    },
    {
      "cell_type": "code",
      "metadata": {
        "id": "YGwjcO0_RULu"
      },
      "source": [
        "#ROC curves\n",
        "from sklearn.metrics import roc_curve\n",
        "\n",
        "fpr, tpr, thresholds = roc_curve(y_test, labelProb[:,1])\n",
        "sensitivity = tpr #alpha\n",
        "specificity= 1-fpr #beta"
      ],
      "execution_count": null,
      "outputs": []
    },
    {
      "cell_type": "code",
      "metadata": {
        "id": "L3BvdKrFYq6o",
        "outputId": "b981a012-1b26-4b53-9928-e9215ae5a6b6",
        "colab": {
          "base_uri": "https://localhost:8080/",
          "height": 104
        }
      },
      "source": [
        "sensitivity"
      ],
      "execution_count": null,
      "outputs": [
        {
          "output_type": "execute_result",
          "data": {
            "text/plain": [
              "array([0.        , 0.02439024, 0.09756098, 0.17073171, 0.26829268,\n",
              "       0.34146341, 0.41463415, 0.48780488, 0.53658537, 0.6097561 ,\n",
              "       0.65853659, 0.70731707, 0.7804878 , 0.90243902, 0.90243902,\n",
              "       0.95121951, 0.95121951, 0.97560976, 0.97560976, 1.        ,\n",
              "       1.        , 1.        , 1.        ])"
            ]
          },
          "metadata": {
            "tags": []
          },
          "execution_count": 436
        }
      ]
    },
    {
      "cell_type": "code",
      "metadata": {
        "id": "lItgiXdCYwp8",
        "outputId": "1a62b734-3805-4514-c4e7-46c755924dd5",
        "colab": {
          "base_uri": "https://localhost:8080/",
          "height": 104
        }
      },
      "source": [
        "specificity"
      ],
      "execution_count": null,
      "outputs": [
        {
          "output_type": "execute_result",
          "data": {
            "text/plain": [
              "array([1.        , 1.        , 1.        , 1.        , 1.        ,\n",
              "       1.        , 1.        , 1.        , 1.        , 1.        ,\n",
              "       1.        , 1.        , 1.        , 1.        , 0.93333333,\n",
              "       0.93333333, 0.73333333, 0.73333333, 0.6       , 0.6       ,\n",
              "       0.53333333, 0.4       , 0.        ])"
            ]
          },
          "metadata": {
            "tags": []
          },
          "execution_count": 437
        }
      ]
    },
    {
      "cell_type": "code",
      "metadata": {
        "id": "qaYyUclpU4_i",
        "outputId": "ca631004-3889-4caa-ac12-47e863f253fa",
        "colab": {
          "base_uri": "https://localhost:8080/",
          "height": 279
        }
      },
      "source": [
        "# plot the roc curve for the model\n",
        "from matplotlib import pyplot\n",
        "\n",
        "pyplot.plot([0,1], [0,1], linestyle='--', label='No Skill')\n",
        "pyplot.plot(fpr, tpr, marker='.', label='Random Forest')\n",
        "# axis labels\n",
        "pyplot.xlabel('False Positive Rate')\n",
        "pyplot.ylabel('True Positive Rate')\n",
        "pyplot.legend()\n",
        "# show the plot\n",
        "pyplot.show()"
      ],
      "execution_count": null,
      "outputs": [
        {
          "output_type": "display_data",
          "data": {
            "image/png": "[encoded data removed]",
            "text/plain": [
              "<Figure size 432x288 with 1 Axes>"
            ]
          },
          "metadata": {
            "tags": [],
            "needs_background": "light"
          }
        }
      ]
    },
    {
      "cell_type": "code",
      "metadata": {
        "id": "jppUL-lMVR90"
      },
      "source": [
        "# calculate the g-mean for each threshold\n",
        "gmeans = np.sqrt(tpr * (1-fpr))"
      ],
      "execution_count": null,
      "outputs": []
    },
    {
      "cell_type": "code",
      "metadata": {
        "id": "VVksEBvwVZn7",
        "outputId": "d201fbfb-97e3-4f2b-a2b8-f974d2258dc6",
        "colab": {
          "base_uri": "https://localhost:8080/",
          "height": 34
        }
      },
      "source": [
        "ix = np.argmax(gmeans)\n",
        "print('Best Threshold=%f, G-Mean=%.3f' % (thresholds[ix], gmeans[ix]))"
      ],
      "execution_count": null,
      "outputs": [
        {
          "output_type": "stream",
          "text": [
            "Best Threshold=0.635000, G-Mean=0.950\n"
          ],
          "name": "stdout"
        }
      ]
    },
    {
      "cell_type": "code",
      "metadata": {
        "id": "BaQR_xk5VpcU",
        "outputId": "a0fa0040-c173-4fb5-ae0f-7dc1dde06b59",
        "colab": {
          "base_uri": "https://localhost:8080/",
          "height": 279
        }
      },
      "source": [
        "# plot the roc curve for the model\n",
        "pyplot.plot([0,1], [0,1], linestyle='--', label='No Skill')\n",
        "pyplot.plot(fpr, tpr, marker='.', label='Logistic')\n",
        "pyplot.scatter(fpr[ix], tpr[ix], marker='o', color='black', label='Best')\n",
        "# axis labels\n",
        "pyplot.xlabel('False Positive Rate')\n",
        "pyplot.ylabel('True Positive Rate')\n",
        "pyplot.legend()\n",
        "# show the plot\n",
        "pyplot.show()"
      ],
      "execution_count": null,
      "outputs": [
        {
          "output_type": "display_data",
          "data": {
            "image/png": "[encoded data removed]",
            "text/plain": [
              "<Figure size 432x288 with 1 Axes>"
            ]
          },
          "metadata": {
            "tags": [],
            "needs_background": "light"
          }
        }
      ]
    },
    {
      "cell_type": "code",
      "metadata": {
        "id": "sz8bHnmNVzEk",
        "outputId": "a1eafe90-579e-45e8-c18e-b72234123d6a",
        "colab": {
          "base_uri": "https://localhost:8080/",
          "height": 34
        }
      },
      "source": [
        "\n",
        "# calculate roc curves\n",
        "fpr, tpr, thresholds = roc_curve(y_test, finalProb)\n",
        "# get the best threshold\n",
        "J = tpr - fpr\n",
        "ix = np.argmax(J)\n",
        "best_thresh = thresholds[ix]\n",
        "print('Best Threshold=%f' % (best_thresh))"
      ],
      "execution_count": null,
      "outputs": [
        {
          "output_type": "stream",
          "text": [
            "Best Threshold=1.000000\n"
          ],
          "name": "stdout"
        }
      ]
    },
    {
      "cell_type": "code",
      "metadata": {
        "id": "qeh1jtc-WNpv",
        "outputId": "54bed38a-67a5-450d-edb7-b9aa3856d7d3",
        "colab": {
          "base_uri": "https://localhost:8080/",
          "height": 296
        }
      },
      "source": [
        "# calculate roc curves\n",
        "from sklearn.metrics import precision_recall_curve\n",
        "\n",
        "precision, recall, thresholds = precision_recall_curve(y_test, finalProb)\n",
        "# convert to f score\n",
        "fscore = (2 * precision * recall) / (precision + recall)\n",
        "# locate the index of the largest f score\n",
        "ix = np.argmax(fscore)\n",
        "print('Best Threshold=%f, F-Score=%.3f' % (thresholds[ix], fscore[ix]))\n",
        "# plot the roc curve for the model\n",
        "no_skill = len(y_test[y_test==1]) / len(y_test)\n",
        "pyplot.plot([0,1], [no_skill,no_skill], linestyle='--', label='No Skill')\n",
        "pyplot.plot(recall, precision, marker='.', label='Logistic')\n",
        "pyplot.scatter(recall[ix], precision[ix], marker='o', color='black', label='Best')\n",
        "# axis labels\n",
        "pyplot.xlabel('Recall')\n",
        "pyplot.ylabel('Precision')\n",
        "pyplot.legend()\n",
        "# show the plot\n",
        "pyplot.show()"
      ],
      "execution_count": null,
      "outputs": [
        {
          "output_type": "stream",
          "text": [
            "Best Threshold=1.000000, F-Score=0.941\n"
          ],
          "name": "stdout"
        },
        {
          "output_type": "display_data",
          "data": {
            "image/png": "[encoded data removed]",
            "text/plain": [
              "<Figure size 432x288 with 1 Axes>"
            ]
          },
          "metadata": {
            "tags": [],
            "needs_background": "light"
          }
        }
      ]
    },
    {
      "cell_type": "code",
      "metadata": {
        "id": "IaOkgwitLwHY"
      },
      "source": [
        "import numpy as np\n",
        "import pickle\n",
        "import pandas as pd\n",
        "import streamlit as st \n"
      ],
      "execution_count": 1,
      "outputs": []
    },
    {
      "cell_type": "code",
      "metadata": {
        "id": "P-I8bvTDL-5M"
      },
      "source": [
        "pickle_in = open(\"bestClassifier.pkl\",\"rb\")\n",
        "classifier=pickle.load(pickle_in)"
      ],
      "execution_count": 2,
      "outputs": []
    },
    {
      "cell_type": "code",
      "metadata": {
        "id": "b28TYI6_MMbE"
      },
      "source": [
        "def welcome():\n",
        "    return \"Welcome All\""
      ],
      "execution_count": 3,
      "outputs": []
    },
    {
      "cell_type": "code",
      "metadata": {
        "id": "EL75heSqMQcJ"
      },
      "source": [
        "def predict_note_authentication(SESSO, AGE, WBC, Piastrine, Neutrofili, Monociti, Eosinofili, Basofili, AST, ALT, ALP, GGT, LDH):\n",
        "    \n",
        "    \"\"\"Let's Authenticate the Banks Note \n",
        "    This is using docstrings for specifications.\n",
        "    ---\n",
        "    parameters:  \n",
        "      - name: SESSO\n",
        "        in: query\n",
        "        type: number\n",
        "        required: true\n",
        "      - name: AGE\n",
        "        in: query\n",
        "        type: number\n",
        "        required: true\n",
        "      - name: WBC\n",
        "        in: query\n",
        "        type: number\n",
        "        required: true\n",
        "      - name: Piastrine\n",
        "        in: query\n",
        "        type: number\n",
        "        required: true\n",
        "      - name: Neutrofili\n",
        "        in: query\n",
        "        type: number\n",
        "        required: true\n",
        "      - name: Monociti\n",
        "        in: query\n",
        "        type: number\n",
        "        required: true\n",
        "      - name: Eosinofili\n",
        "        in: query\n",
        "        type: number\n",
        "        required: true\n",
        "      - name: Basofili\n",
        "        in: query\n",
        "        type: number\n",
        "        required: true\n",
        "      - name: AST\n",
        "        in: query\n",
        "        type: number\n",
        "        required: true\n",
        "      - name: ALT\n",
        "        in: query\n",
        "        type: number\n",
        "        required: true\n",
        "      - name: ALP\n",
        "        in: query\n",
        "        type: number\n",
        "        required: true\n",
        "      - name: GGT\n",
        "        in: query\n",
        "        type: number\n",
        "        required: true\n",
        "      - name: LDH\n",
        "        in: query\n",
        "        type: number\n",
        "        required: true\n",
        "    responses:\n",
        "        200:\n",
        "            description: The output values\n",
        "        \n",
        "    \"\"\"\n",
        "   \n",
        "    prediction=classifier.predict([[SESSO, AGE, WBC, Piastrine, Neutrofili, Monociti, Eosinofili, Basofili, AST, ALT, ALP, GGT, LDH]])\n",
        "    print(prediction)\n",
        "    return prediction"
      ],
      "execution_count": 4,
      "outputs": []
    },
    {
      "cell_type": "code",
      "metadata": {
        "id": "c5GiZycPMWE8"
      },
      "source": [
        "def main():\n",
        "    st.title(\"Covid'19\")\n",
        "    html_temp = \"\"\"\n",
        "    <div style=\"background-color:tomato;padding:10px\">\n",
        "    <h2 style=\"color:white;text-align:center;\">Covid'19 </h2>\n",
        "    </div>\n",
        "    \"\"\"\n",
        "    st.markdown(html_temp,unsafe_allow_html=True)\n",
        "    SESSO = st.text_input(\"Gender (For Male type: 0 / For Female type: 1)\",\"Type Here\")\n",
        "    AGE = st.text_input(\"AGE\",\"Type Here\")\n",
        "    WBC = st.text_input(\"WBC\",\"Type Here\")\n",
        "    Piastrine = st.text_input(\"Piastrine\",\"Type Here\")\n",
        "    Neutrofili = st.text_input(\"Neutrofili\",\"Type Here\")\n",
        "    Monociti = st.text_input(\"Monociti\",\"Type Here\")\n",
        "    Eosinofili = st.text_input(\"Eosinofili\",\"Type Here\")\n",
        "    Basofili = st.text_input(\"Basofili\",\"Type Here\")\n",
        "    AST = st.text_input(\"AST\",\"Type Here\")\n",
        "    ALT = st.text_input(\"ALT\",\"Type Here\")\n",
        "    ALP = st.text_input(\"ALP\",\"Type Here\")\n",
        "    GGT = st.text_input(\"GGT\",\"Type Here\")\n",
        "    LDH = st.text_input(\"LDH\",\"Type Here\")\n",
        "\n",
        "    result=\"\"\n",
        "    if st.button(\"Predict\"):\n",
        "        result=predict_note_authentication(SESSO, AGE, WBC, Piastrine, Neutrofili, Monociti, Eosinofili, Basofili, AST, ALT, ALP, GGT, LDH)\n",
        "    st.success('The output is  {}'.format(result))\n",
        "    if st.button(\"About\"):\n",
        "        st.text(\"Coronavirus disease (COVID-19) is an infectious disease caused by a newly discovered coronavirus.\")\n",
        "        st.text(\"Most people who fall sick with COVID-19 will experience mild to moderate symptoms and recover without special treatment.\")\n",
        "\n",
        "if __name__=='__main__':\n",
        "    main()\n",
        "    "
      ],
      "execution_count": 6,
      "outputs": []
    },
    {
      "cell_type": "code",
      "metadata": {
        "id": "meOvNWJbMbQ4"
      },
      "source": [
        ""
      ],
      "execution_count": null,
      "outputs": []
    }
  ]
}